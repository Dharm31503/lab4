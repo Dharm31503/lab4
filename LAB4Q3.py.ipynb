{
  "nbformat": 4,
  "nbformat_minor": 0,
  "metadata": {
    "colab": {
      "provenance": []
    },
    "kernelspec": {
      "name": "python3",
      "display_name": "Python 3"
    },
    "language_info": {
      "name": "python"
    }
  },
  "cells": [
    {
      "cell_type": "code",
      "source": [],
      "metadata": {
        "id": "Wa7P0bzyo6YK"
      },
      "execution_count": null,
      "outputs": []
    },
    {
      "cell_type": "code",
      "execution_count": null,
      "metadata": {
        "id": "FPBPDzn1o48T"
      },
      "outputs": [],
      "source": [
        "import pandas as pd\n",
        "import numpy as np\n",
        "from sklearn.preprocessing import LabelEncoder\n",
        "from sklearn.model_selection import train_test_split\n",
        "from tensorflow.keras.models import Sequential\n",
        "from tensorflow.keras.layers import Dense\n",
        "from tensorflow.keras.optimizers import Adam\n",
        "\n",
        "def load_and_preprocess_data(file_path):\n",
        "    column_names = ['class', 'T3', 'T4U', 'T4', 'FTI', 'TSH']\n",
        "    data = pd.read_csv(file_path, names=column_names, header=None)\n",
        "\n",
        "    le = LabelEncoder()\n",
        "    data['class'] = le.fit_transform(data['class'])\n",
        "\n",
        "    for col in data.columns:\n",
        "        if col != 'class':\n",
        "            data[col] = pd.to_numeric(data[col], errors='coerce')\n",
        "    data = data.dropna()\n",
        "\n",
        "    return data, le\n",
        "\n",
        "file_path = 'https://www.dropbox.com/scl/fi/pvtlqgewakfacyiy9u3dc/new-thyroid.data?rlkey=h133b1idt3v7m1fgr1x210kin&st=463tr40p&dl=1'\n",
        "data, le = load_and_preprocess_data(file_path)\n",
        "\n",
        "X = data.drop('class', axis=1)\n",
        "y = data['class']\n",
        "\n",
        "X_train, X_test, y_train, y_test = train_test_split(X, y, test_size=0.2, random_state=42)\n",
        "\n",
        "# Define the model\n",
        "model = Sequential([\n",
        "    Dense(64, activation='relu', input_shape=(5,)),\n",
        "    Dense(32, activation='relu'),\n",
        "    Dense(16, activation='relu'),\n",
        "    Dense(3, activation='softmax')\n",
        "])\n",
        "\n",
        "# Compile the model\n",
        "model.compile(optimizer=Adam(learning_rate=0.001),\n",
        "              loss='sparse_categorical_crossentropy',\n",
        "              metrics=['accuracy'])\n",
        "\n",
        "# Train the model\n",
        "history = model.fit(X_train, y_train, epochs=100, batch_size=32, validation_split=0.2, verbose=0)\n",
        "\n",
        "# Evaluate the model\n",
        "loss, accuracy = model.evaluate(X_test, y_test)\n",
        "print(f\"Test Accuracy: {accuracy * 100:.2f}%\")\n",
        "\n",
        "def predict(T3, T4, TSH, TT4, FTI):\n",
        "    input_data = np.array([[T3, T4, TSH, TT4, FTI]])\n",
        "    prediction = model.predict(input_data)\n",
        "    return np.argmax(prediction)\n",
        "\n",
        "def get_input_and_predict():\n",
        "    print(\"Enter the following values:\")\n",
        "    T3 = float(input(\"T3: \"))\n",
        "    T4 = float(input(\"T4: \"))\n",
        "    TSH = float(input(\"TSH: \"))\n",
        "    TT4 = float(input(\"TT4: \"))\n",
        "    FTI = float(input(\"FTI: \"))\n",
        "\n",
        "    prediction = predict(T3, T4, TSH, TT4, FTI)\n",
        "    print(f\"Predicted class: {le.inverse_transform([prediction])[0]}\")\n",
        "\n",
        "get_input_and_predict()"
      ]
    }
  ]
}